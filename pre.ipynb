{
 "cells": [
  {
   "cell_type": "code",
   "execution_count": 1,
   "metadata": {
    "collapsed": true
   },
   "outputs": [
    {
     "output_type": "execute_result",
     "data": {
      "text/plain": [
       "                                                 text     label\n",
       "id                                                             \n",
       "1                       牛逼啊，这是我见过断肢血腥类道具最假的片子，剧情也烂得一批  negative\n",
       "2                                什么跟什么啊。。。这破剧情 这破翻译！！  negative\n",
       "3                        就看了南笙的一段，但为啥把台湾的模式强加在内地？怪怪的。  negative\n",
       "4                              其实也不是说差，主要没看过这种风格，不太习惯  negative\n",
       "5                        看到一半多就不想看了····只怪话题太沉重，我内心太幼小  negative\n",
       "...                                               ...       ...\n",
       "996                        其实挺感人的，演员真心挺棒的，没有那种假惺惺的东西。  positive\n",
       "997                           神秘学。漂浮的睡美人。末日。老塔的伯格曼情结。  positive\n",
       "998                        归亚蕾真是风情万种，但作为女主角，戏份实在不能算多。  positive\n",
       "999   上课的时候老师放，重新回忆了一遍童年呀。校园生活应该是这么青春活力的啊。师生关系也可以再反思。  positive\n",
       "1000                            从音乐到声音到画面到感觉到创意……不能更好  positive\n",
       "\n",
       "[1000 rows x 2 columns]"
      ],
      "text/html": "<div>\n<style scoped>\n    .dataframe tbody tr th:only-of-type {\n        vertical-align: middle;\n    }\n\n    .dataframe tbody tr th {\n        vertical-align: top;\n    }\n\n    .dataframe thead th {\n        text-align: right;\n    }\n</style>\n<table border=\"1\" class=\"dataframe\">\n  <thead>\n    <tr style=\"text-align: right;\">\n      <th></th>\n      <th>text</th>\n      <th>label</th>\n    </tr>\n    <tr>\n      <th>id</th>\n      <th></th>\n      <th></th>\n    </tr>\n  </thead>\n  <tbody>\n    <tr>\n      <th>1</th>\n      <td>牛逼啊，这是我见过断肢血腥类道具最假的片子，剧情也烂得一批</td>\n      <td>negative</td>\n    </tr>\n    <tr>\n      <th>2</th>\n      <td>什么跟什么啊。。。这破剧情 这破翻译！！</td>\n      <td>negative</td>\n    </tr>\n    <tr>\n      <th>3</th>\n      <td>就看了南笙的一段，但为啥把台湾的模式强加在内地？怪怪的。</td>\n      <td>negative</td>\n    </tr>\n    <tr>\n      <th>4</th>\n      <td>其实也不是说差，主要没看过这种风格，不太习惯</td>\n      <td>negative</td>\n    </tr>\n    <tr>\n      <th>5</th>\n      <td>看到一半多就不想看了····只怪话题太沉重，我内心太幼小</td>\n      <td>negative</td>\n    </tr>\n    <tr>\n      <th>...</th>\n      <td>...</td>\n      <td>...</td>\n    </tr>\n    <tr>\n      <th>996</th>\n      <td>其实挺感人的，演员真心挺棒的，没有那种假惺惺的东西。</td>\n      <td>positive</td>\n    </tr>\n    <tr>\n      <th>997</th>\n      <td>神秘学。漂浮的睡美人。末日。老塔的伯格曼情结。</td>\n      <td>positive</td>\n    </tr>\n    <tr>\n      <th>998</th>\n      <td>归亚蕾真是风情万种，但作为女主角，戏份实在不能算多。</td>\n      <td>positive</td>\n    </tr>\n    <tr>\n      <th>999</th>\n      <td>上课的时候老师放，重新回忆了一遍童年呀。校园生活应该是这么青春活力的啊。师生关系也可以再反思。</td>\n      <td>positive</td>\n    </tr>\n    <tr>\n      <th>1000</th>\n      <td>从音乐到声音到画面到感觉到创意……不能更好</td>\n      <td>positive</td>\n    </tr>\n  </tbody>\n</table>\n<p>1000 rows × 2 columns</p>\n</div>"
     },
     "metadata": {},
     "execution_count": 1
    }
   ],
   "source": [
    "import pandas as pd \n",
    "df = pd.read_csv(\"data/A/train_data.csv\", index_col=0)\n",
    "df\n"
   ]
  },
  {
   "cell_type": "code",
   "execution_count": 7,
   "metadata": {},
   "outputs": [
    {
     "output_type": "stream",
     "name": "stdout",
     "text": [
      "<class 'pandas.core.frame.DataFrame'>\nInt64Index: 1000 entries, 1 to 1000\nData columns (total 2 columns):\n #   Column  Non-Null Count  Dtype \n---  ------  --------------  ----- \n 0   text    1000 non-null   object\n 1   label   1000 non-null   object\ndtypes: object(2)\nmemory usage: 23.4+ KB\n"
     ]
    }
   ],
   "source": [
    "df.info()"
   ]
  },
  {
   "cell_type": "code",
   "execution_count": 43,
   "metadata": {},
   "outputs": [],
   "source": [
    "train_df = df[:600]\n",
    "dev_df = df[600:800]\n",
    "test_df = df[800:]"
   ]
  },
  {
   "cell_type": "code",
   "execution_count": 10,
   "metadata": {},
   "outputs": [],
   "source": [
    "train_df = df[101:901]\n",
    "test_df = pd.concat([df[0:101],df[901:1001]], axis=0,ignore_index=True)\n",
    "train_df.to_csv(\"train.csv\")\n",
    "test_df.to_csv(\"test.csv\")"
   ]
  },
  {
   "cell_type": "code",
   "execution_count": 44,
   "metadata": {},
   "outputs": [],
   "source": [
    "train_df.to_csv(\"train_data.csv\")"
   ]
  },
  {
   "cell_type": "code",
   "execution_count": 45,
   "metadata": {},
   "outputs": [],
   "source": [
    "dev_df.to_csv(\"dev_data.csv\")\n",
    "test_df.to_csv(\"test_data.csv\")"
   ]
  },
  {
   "cell_type": "code",
   "execution_count": 16,
   "metadata": {},
   "outputs": [
    {
     "output_type": "stream",
     "name": "stderr",
     "text": [
      "D:\\ProgramData\\Anaconda3\\envs\\code\\lib\\site-packages\\pandas\\core\\ops\\array_ops.py:253: FutureWarning: elementwise comparison failed; returning scalar instead, but in the future will perform elementwise comparison\n  res_values = method(rvalues)\n"
     ]
    }
   ],
   "source": [
    "df['label'] = (df['label'] == 'negative').astype(\"int\")"
   ]
  },
  {
   "cell_type": "code",
   "execution_count": 21,
   "metadata": {},
   "outputs": [
    {
     "output_type": "execute_result",
     "data": {
      "text/plain": [
       "                                                 text     label\n",
       "id                                                             \n",
       "1                       牛逼啊，这是我见过断肢血腥类道具最假的片子，剧情也烂得一批  negative\n",
       "2                                什么跟什么啊。。。这破剧情 这破翻译！！  negative\n",
       "3                        就看了南笙的一段，但为啥把台湾的模式强加在内地？怪怪的。  negative\n",
       "4                              其实也不是说差，主要没看过这种风格，不太习惯  negative\n",
       "5                        看到一半多就不想看了····只怪话题太沉重，我内心太幼小  negative\n",
       "...                                               ...       ...\n",
       "996                        其实挺感人的，演员真心挺棒的，没有那种假惺惺的东西。  positive\n",
       "997                           神秘学。漂浮的睡美人。末日。老塔的伯格曼情结。  positive\n",
       "998                        归亚蕾真是风情万种，但作为女主角，戏份实在不能算多。  positive\n",
       "999   上课的时候老师放，重新回忆了一遍童年呀。校园生活应该是这么青春活力的啊。师生关系也可以再反思。  positive\n",
       "1000                            从音乐到声音到画面到感觉到创意……不能更好  positive\n",
       "\n",
       "[1000 rows x 2 columns]"
      ],
      "text/html": "<div>\n<style scoped>\n    .dataframe tbody tr th:only-of-type {\n        vertical-align: middle;\n    }\n\n    .dataframe tbody tr th {\n        vertical-align: top;\n    }\n\n    .dataframe thead th {\n        text-align: right;\n    }\n</style>\n<table border=\"1\" class=\"dataframe\">\n  <thead>\n    <tr style=\"text-align: right;\">\n      <th></th>\n      <th>text</th>\n      <th>label</th>\n    </tr>\n    <tr>\n      <th>id</th>\n      <th></th>\n      <th></th>\n    </tr>\n  </thead>\n  <tbody>\n    <tr>\n      <th>1</th>\n      <td>牛逼啊，这是我见过断肢血腥类道具最假的片子，剧情也烂得一批</td>\n      <td>negative</td>\n    </tr>\n    <tr>\n      <th>2</th>\n      <td>什么跟什么啊。。。这破剧情 这破翻译！！</td>\n      <td>negative</td>\n    </tr>\n    <tr>\n      <th>3</th>\n      <td>就看了南笙的一段，但为啥把台湾的模式强加在内地？怪怪的。</td>\n      <td>negative</td>\n    </tr>\n    <tr>\n      <th>4</th>\n      <td>其实也不是说差，主要没看过这种风格，不太习惯</td>\n      <td>negative</td>\n    </tr>\n    <tr>\n      <th>5</th>\n      <td>看到一半多就不想看了····只怪话题太沉重，我内心太幼小</td>\n      <td>negative</td>\n    </tr>\n    <tr>\n      <th>...</th>\n      <td>...</td>\n      <td>...</td>\n    </tr>\n    <tr>\n      <th>996</th>\n      <td>其实挺感人的，演员真心挺棒的，没有那种假惺惺的东西。</td>\n      <td>positive</td>\n    </tr>\n    <tr>\n      <th>997</th>\n      <td>神秘学。漂浮的睡美人。末日。老塔的伯格曼情结。</td>\n      <td>positive</td>\n    </tr>\n    <tr>\n      <th>998</th>\n      <td>归亚蕾真是风情万种，但作为女主角，戏份实在不能算多。</td>\n      <td>positive</td>\n    </tr>\n    <tr>\n      <th>999</th>\n      <td>上课的时候老师放，重新回忆了一遍童年呀。校园生活应该是这么青春活力的啊。师生关系也可以再反思。</td>\n      <td>positive</td>\n    </tr>\n    <tr>\n      <th>1000</th>\n      <td>从音乐到声音到画面到感觉到创意……不能更好</td>\n      <td>positive</td>\n    </tr>\n  </tbody>\n</table>\n<p>1000 rows × 2 columns</p>\n</div>"
     },
     "metadata": {},
     "execution_count": 21
    }
   ],
   "source": [
    "df"
   ]
  },
  {
   "cell_type": "code",
   "execution_count": 2,
   "metadata": {},
   "outputs": [],
   "source": [
    "for i in range(1, 1001):\n",
    "    if df['label'][i] == 'positive':\n",
    "        df['label'][i] = 1\n",
    "    else:\n",
    "        df['label'][i] = 0"
   ]
  },
  {
   "cell_type": "code",
   "execution_count": 34,
   "metadata": {},
   "outputs": [
    {
     "output_type": "execute_result",
     "data": {
      "text/plain": [
       "                                                 text label\n",
       "id                                                         \n",
       "1                       牛逼啊，这是我见过断肢血腥类道具最假的片子，剧情也烂得一批     0\n",
       "2                                什么跟什么啊。。。这破剧情 这破翻译！！     0\n",
       "3                        就看了南笙的一段，但为啥把台湾的模式强加在内地？怪怪的。     0\n",
       "4                              其实也不是说差，主要没看过这种风格，不太习惯     0\n",
       "5                        看到一半多就不想看了····只怪话题太沉重，我内心太幼小     0\n",
       "...                                               ...   ...\n",
       "996                        其实挺感人的，演员真心挺棒的，没有那种假惺惺的东西。     1\n",
       "997                           神秘学。漂浮的睡美人。末日。老塔的伯格曼情结。     1\n",
       "998                        归亚蕾真是风情万种，但作为女主角，戏份实在不能算多。     1\n",
       "999   上课的时候老师放，重新回忆了一遍童年呀。校园生活应该是这么青春活力的啊。师生关系也可以再反思。     1\n",
       "1000                            从音乐到声音到画面到感觉到创意……不能更好     1\n",
       "\n",
       "[1000 rows x 2 columns]"
      ],
      "text/html": "<div>\n<style scoped>\n    .dataframe tbody tr th:only-of-type {\n        vertical-align: middle;\n    }\n\n    .dataframe tbody tr th {\n        vertical-align: top;\n    }\n\n    .dataframe thead th {\n        text-align: right;\n    }\n</style>\n<table border=\"1\" class=\"dataframe\">\n  <thead>\n    <tr style=\"text-align: right;\">\n      <th></th>\n      <th>text</th>\n      <th>label</th>\n    </tr>\n    <tr>\n      <th>id</th>\n      <th></th>\n      <th></th>\n    </tr>\n  </thead>\n  <tbody>\n    <tr>\n      <th>1</th>\n      <td>牛逼啊，这是我见过断肢血腥类道具最假的片子，剧情也烂得一批</td>\n      <td>0</td>\n    </tr>\n    <tr>\n      <th>2</th>\n      <td>什么跟什么啊。。。这破剧情 这破翻译！！</td>\n      <td>0</td>\n    </tr>\n    <tr>\n      <th>3</th>\n      <td>就看了南笙的一段，但为啥把台湾的模式强加在内地？怪怪的。</td>\n      <td>0</td>\n    </tr>\n    <tr>\n      <th>4</th>\n      <td>其实也不是说差，主要没看过这种风格，不太习惯</td>\n      <td>0</td>\n    </tr>\n    <tr>\n      <th>5</th>\n      <td>看到一半多就不想看了····只怪话题太沉重，我内心太幼小</td>\n      <td>0</td>\n    </tr>\n    <tr>\n      <th>...</th>\n      <td>...</td>\n      <td>...</td>\n    </tr>\n    <tr>\n      <th>996</th>\n      <td>其实挺感人的，演员真心挺棒的，没有那种假惺惺的东西。</td>\n      <td>1</td>\n    </tr>\n    <tr>\n      <th>997</th>\n      <td>神秘学。漂浮的睡美人。末日。老塔的伯格曼情结。</td>\n      <td>1</td>\n    </tr>\n    <tr>\n      <th>998</th>\n      <td>归亚蕾真是风情万种，但作为女主角，戏份实在不能算多。</td>\n      <td>1</td>\n    </tr>\n    <tr>\n      <th>999</th>\n      <td>上课的时候老师放，重新回忆了一遍童年呀。校园生活应该是这么青春活力的啊。师生关系也可以再反思。</td>\n      <td>1</td>\n    </tr>\n    <tr>\n      <th>1000</th>\n      <td>从音乐到声音到画面到感觉到创意……不能更好</td>\n      <td>1</td>\n    </tr>\n  </tbody>\n</table>\n<p>1000 rows × 2 columns</p>\n</div>"
     },
     "metadata": {},
     "execution_count": 34
    }
   ],
   "source": [
    "df"
   ]
  },
  {
   "cell_type": "code",
   "execution_count": 41,
   "metadata": {},
   "outputs": [
    {
     "output_type": "stream",
     "name": "stderr",
     "text": [
      "Building prefix dict from the default dictionary ...\n",
      "Loading model from cache C:\\Users\\Thor\\AppData\\Local\\Temp\\jieba.cache\n",
      "Loading model cost 0.628 seconds.\n",
      "Prefix dict has been built successfully.\n",
      "牛 逼 啊 ， 这 是 我 见 过 断肢 血腥 类 道具 最 假 的 片子 ， 剧情 也 烂 得 一批\n"
     ]
    }
   ],
   "source": [
    "import jieba\n",
    "a = \"牛逼啊，这是我见过断肢血腥类道具最假的片子，剧情也烂得一批\"\n",
    "a = jieba.cut(a, cut_all=True)\n",
    "print(\" \".join(list(a)))"
   ]
  },
  {
   "cell_type": "code",
   "execution_count": 3,
   "metadata": {},
   "outputs": [
    {
     "output_type": "stream",
     "name": "stderr",
     "text": [
      "Building prefix dict from the default dictionary ...\n",
      "Loading model from cache C:\\Users\\Thor\\AppData\\Local\\Temp\\jieba.cache\n",
      "Loading model cost 0.667 seconds.\n",
      "Prefix dict has been built successfully.\n"
     ]
    },
    {
     "output_type": "execute_result",
     "data": {
      "text/plain": [
       "                                                   text label\n",
       "id                                                           \n",
       "1     牛 逼 啊 ， 这 是 我 见 过 断肢 血腥 类 道具 最 假 的 片子 ， 剧情 也 烂...     0\n",
       "2                    什么 跟 什么 啊 。。。 这 破 剧情     这 破 翻译 ！！     0\n",
       "3     就 看 了 南 笙 的 一段 ， 但 为啥 把 台湾 的 模式 强加 强加在 加在 在内 内...     0\n",
       "4                 其实 也 不是 说 差 ， 主要 没看 看过 这种 风格 ， 不 太 习惯     0\n",
       "5     看到 一半 一半多 半多 就 不想 看 了 ···· 只 怪话 话题 太沉 太沉重 沉重 ，...     0\n",
       "...                                                 ...   ...\n",
       "996        其实 挺 感人 的 ， 演员 真心 挺棒 的 ， 没有 那种 假惺惺 惺惺 的 东西 。     1\n",
       "997          神秘 神秘学 。 漂浮 的 睡美人 。 末日 。 老 塔 的 伯格 伯格曼 情结 。     1\n",
       "998    归亚蕾 真是 风情 风情万种 万种 ， 但 作为 女主角 主角 ， 戏份 实在 不能 算 多 。     1\n",
       "999   上课 的 时候 老师 放 ， 重新 回忆 了 一遍 童年 呀 。 校园 校园生活 生活 应该...     1\n",
       "1000                  从 音乐 到 声音 到 画面 到 感觉 到 创意 …… 不能 更好     1\n",
       "\n",
       "[1000 rows x 2 columns]"
      ],
      "text/html": "<div>\n<style scoped>\n    .dataframe tbody tr th:only-of-type {\n        vertical-align: middle;\n    }\n\n    .dataframe tbody tr th {\n        vertical-align: top;\n    }\n\n    .dataframe thead th {\n        text-align: right;\n    }\n</style>\n<table border=\"1\" class=\"dataframe\">\n  <thead>\n    <tr style=\"text-align: right;\">\n      <th></th>\n      <th>text</th>\n      <th>label</th>\n    </tr>\n    <tr>\n      <th>id</th>\n      <th></th>\n      <th></th>\n    </tr>\n  </thead>\n  <tbody>\n    <tr>\n      <th>1</th>\n      <td>牛 逼 啊 ， 这 是 我 见 过 断肢 血腥 类 道具 最 假 的 片子 ， 剧情 也 烂...</td>\n      <td>0</td>\n    </tr>\n    <tr>\n      <th>2</th>\n      <td>什么 跟 什么 啊 。。。 这 破 剧情     这 破 翻译 ！！</td>\n      <td>0</td>\n    </tr>\n    <tr>\n      <th>3</th>\n      <td>就 看 了 南 笙 的 一段 ， 但 为啥 把 台湾 的 模式 强加 强加在 加在 在内 内...</td>\n      <td>0</td>\n    </tr>\n    <tr>\n      <th>4</th>\n      <td>其实 也 不是 说 差 ， 主要 没看 看过 这种 风格 ， 不 太 习惯</td>\n      <td>0</td>\n    </tr>\n    <tr>\n      <th>5</th>\n      <td>看到 一半 一半多 半多 就 不想 看 了 ···· 只 怪话 话题 太沉 太沉重 沉重 ，...</td>\n      <td>0</td>\n    </tr>\n    <tr>\n      <th>...</th>\n      <td>...</td>\n      <td>...</td>\n    </tr>\n    <tr>\n      <th>996</th>\n      <td>其实 挺 感人 的 ， 演员 真心 挺棒 的 ， 没有 那种 假惺惺 惺惺 的 东西 。</td>\n      <td>1</td>\n    </tr>\n    <tr>\n      <th>997</th>\n      <td>神秘 神秘学 。 漂浮 的 睡美人 。 末日 。 老 塔 的 伯格 伯格曼 情结 。</td>\n      <td>1</td>\n    </tr>\n    <tr>\n      <th>998</th>\n      <td>归亚蕾 真是 风情 风情万种 万种 ， 但 作为 女主角 主角 ， 戏份 实在 不能 算 多 。</td>\n      <td>1</td>\n    </tr>\n    <tr>\n      <th>999</th>\n      <td>上课 的 时候 老师 放 ， 重新 回忆 了 一遍 童年 呀 。 校园 校园生活 生活 应该...</td>\n      <td>1</td>\n    </tr>\n    <tr>\n      <th>1000</th>\n      <td>从 音乐 到 声音 到 画面 到 感觉 到 创意 …… 不能 更好</td>\n      <td>1</td>\n    </tr>\n  </tbody>\n</table>\n<p>1000 rows × 2 columns</p>\n</div>"
     },
     "metadata": {},
     "execution_count": 3
    }
   ],
   "source": [
    "import jieba\n",
    "for i in range(1, 1001):\n",
    "    temp = jieba.cut(df['text'][i], cut_all=True)\n",
    "    df['text'][i] = \" \".join(list(temp))\n",
    "df"
   ]
  },
  {
   "cell_type": "code",
   "execution_count": 5,
   "metadata": {},
   "outputs": [],
   "source": [
    "df.to_csv(\"all.csv\")"
   ]
  },
  {
   "cell_type": "code",
   "execution_count": 7,
   "metadata": {
    "tags": []
   },
   "outputs": [],
   "source": [
    "import pandas as pd \n",
    "\n",
    "text_df = pd.read_csv(\"data/A/unlabel_data.csv\", index_col=0)[\"text\"]\n",
    "text_list = text_df.to_list()\n",
    "\n",
    "label_list = []\n",
    "with open(\"data/A/self_label_data.txt\", 'r') as f:\n",
    "    lines = f.readlines()\n",
    "    for line in lines:\n",
    "        if str(line.strip('\\n')) == '0':\n",
    "            label_list.append(\"negative\")\n",
    "        else:\n",
    "            label_list.append(\"positive\")\n",
    "\n",
    "df = pd.DataFrame({\"label\": label_list, \"text_a\": text_list})\n",
    "df.to_csv(\"all_data.csv\", index=None)"
   ]
  },
  {
   "cell_type": "code",
   "execution_count": 9,
   "metadata": {},
   "outputs": [],
   "source": [
    "all_df = pd.read_csv(\"all_data.csv\")"
   ]
  },
  {
   "cell_type": "code",
   "execution_count": 10,
   "metadata": {},
   "outputs": [
    {
     "output_type": "execute_result",
     "data": {
      "text/plain": [
       "          label                                             text_a\n",
       "0      positive                             据说1965版可能更经典，但这版的演员更顺眼\n",
       "1      negative                          本来还抱着很大的希望看呢，原来是个彻头彻尾的烂片。\n",
       "2      positive                             天才女人的悲剧在于爱上了一个天才风流的男人!\n",
       "3      positive  借着超能力的外壳，讲述了一个非常温情的故事。题材还是韩影一以贯之的深刻，只不过导演想要的东西太多了\n",
       "4      negative              不知道为啥，就是不喜欢史迪奇……主人公和姐姐的人设很新颖，但就是不喜欢……\n",
       "...         ...                                                ...\n",
       "99995  negative         故事拍着拍着就拍跑了。动画部分太蠢。此类无聊的空中楼阁的都市题材什么时候才是个头啊。\n",
       "99996  negative                       剧情无聊，并且不科学。这种电影存在的目的就是毁我女神的。\n",
       "99997  positive  在导演眼里，这只是一个再正常不过的爱情故事，一个盲人男孩牵手了另一个男孩，如此而已。本来不就是吗。\n",
       "99998  negative                   不明所以，不就分手后各自约炮么！男一男二一开始就结束，再无交集。\n",
       "99999  negative                      剧情惨淡的可怜，前半段僧道之间互相整蛊，后半段联手战僵尸。\n",
       "\n",
       "[100000 rows x 2 columns]"
      ],
      "text/html": "<div>\n<style scoped>\n    .dataframe tbody tr th:only-of-type {\n        vertical-align: middle;\n    }\n\n    .dataframe tbody tr th {\n        vertical-align: top;\n    }\n\n    .dataframe thead th {\n        text-align: right;\n    }\n</style>\n<table border=\"1\" class=\"dataframe\">\n  <thead>\n    <tr style=\"text-align: right;\">\n      <th></th>\n      <th>label</th>\n      <th>text_a</th>\n    </tr>\n  </thead>\n  <tbody>\n    <tr>\n      <th>0</th>\n      <td>positive</td>\n      <td>据说1965版可能更经典，但这版的演员更顺眼</td>\n    </tr>\n    <tr>\n      <th>1</th>\n      <td>negative</td>\n      <td>本来还抱着很大的希望看呢，原来是个彻头彻尾的烂片。</td>\n    </tr>\n    <tr>\n      <th>2</th>\n      <td>positive</td>\n      <td>天才女人的悲剧在于爱上了一个天才风流的男人!</td>\n    </tr>\n    <tr>\n      <th>3</th>\n      <td>positive</td>\n      <td>借着超能力的外壳，讲述了一个非常温情的故事。题材还是韩影一以贯之的深刻，只不过导演想要的东西太多了</td>\n    </tr>\n    <tr>\n      <th>4</th>\n      <td>negative</td>\n      <td>不知道为啥，就是不喜欢史迪奇……主人公和姐姐的人设很新颖，但就是不喜欢……</td>\n    </tr>\n    <tr>\n      <th>...</th>\n      <td>...</td>\n      <td>...</td>\n    </tr>\n    <tr>\n      <th>99995</th>\n      <td>negative</td>\n      <td>故事拍着拍着就拍跑了。动画部分太蠢。此类无聊的空中楼阁的都市题材什么时候才是个头啊。</td>\n    </tr>\n    <tr>\n      <th>99996</th>\n      <td>negative</td>\n      <td>剧情无聊，并且不科学。这种电影存在的目的就是毁我女神的。</td>\n    </tr>\n    <tr>\n      <th>99997</th>\n      <td>positive</td>\n      <td>在导演眼里，这只是一个再正常不过的爱情故事，一个盲人男孩牵手了另一个男孩，如此而已。本来不就是吗。</td>\n    </tr>\n    <tr>\n      <th>99998</th>\n      <td>negative</td>\n      <td>不明所以，不就分手后各自约炮么！男一男二一开始就结束，再无交集。</td>\n    </tr>\n    <tr>\n      <th>99999</th>\n      <td>negative</td>\n      <td>剧情惨淡的可怜，前半段僧道之间互相整蛊，后半段联手战僵尸。</td>\n    </tr>\n  </tbody>\n</table>\n<p>100000 rows × 2 columns</p>\n</div>"
     },
     "metadata": {},
     "execution_count": 10
    }
   ],
   "source": [
    "all_df"
   ]
  },
  {
   "cell_type": "code",
   "execution_count": 12,
   "metadata": {},
   "outputs": [],
   "source": [
    "with open(\"dev.txt\", 'w', encoding='utf-8') as f:\n",
    "    f.write(\"label\\ttext_a\\n\")\n",
    "    for i in range(2000):\n",
    "        f.write(\"%s\\t%s\\n\" % (all_df[\"label\"][i], all_df[\"text_a\"][i]))\n",
    "\n",
    "with open(\"test.txt\", 'w', encoding='utf-8') as f:\n",
    "    f.write(\"label\\ttext_a\\n\")\n",
    "    for i in range(2000, 4000):\n",
    "        f.write(\"%s\\t%s\\n\" % (all_df[\"label\"][i], all_df[\"text_a\"][i]))\n",
    "\n",
    "with open(\"train.txt\", 'w', encoding='utf-8') as f:\n",
    "    f.write(\"label\\ttext_a\\n\")\n",
    "    for i in range(4000, 100000):\n",
    "        f.write(\"%s\\t%s\\n\" % (all_df[\"label\"][i], all_df[\"text_a\"][i]))"
   ]
  },
  {
   "cell_type": "code",
   "execution_count": 1,
   "metadata": {},
   "outputs": [
    {
     "output_type": "stream",
     "name": "stdout",
     "text": [
      "['I', 'am', 'Iron', 'Man']\n"
     ]
    }
   ],
   "source": [
    "a = \"I am Iron Man\"\n",
    "print(a.split(\" \"))"
   ]
  },
  {
   "cell_type": "code",
   "execution_count": 6,
   "metadata": {},
   "outputs": [
    {
     "output_type": "stream",
     "name": "stderr",
     "text": [
      "Building prefix dict from the default dictionary ...\n",
      "Dumping model to file cache C:\\Users\\Thor\\AppData\\Local\\Temp\\jieba.cache\n",
      "Loading model cost 0.891 seconds.\n",
      "Prefix dict has been built successfully.\n",
      "['在', '导演', '眼里', '，', '这', '只是', '一个', '再', '正常', '不过', '的', '爱情', '爱情故事', '故事', '，', '一个', '盲人', '男孩', '牵手', '了', '另', '一个', '一个男孩', '男孩', '，', '如此', '如此而已', '而已', '。', '本来', '不', '就是', '吗', '。']\n"
     ]
    }
   ],
   "source": [
    "import jieba\n",
    "a = \"在导演眼里，这只是一个再正常不过的爱情故事，一个盲人男孩牵手了另一个男孩，如此而已。本来不就是吗。\"\n",
    "print(list(jieba.cut(a, cut_all=True)))"
   ]
  },
  {
   "cell_type": "code",
   "execution_count": 8,
   "metadata": {},
   "outputs": [
    {
     "output_type": "stream",
     "name": "stdout",
     "text": [
      "['如此而已', '一个男孩', '牵手', '爱情故事', '盲人', '男孩', '导演', '眼里', '本来', '一个', '正常', '只是', '不过', '就是']\n"
     ]
    }
   ],
   "source": [
    "import jieba.analyse\n",
    "\n",
    "tags = jieba.analyse.extract_tags(a,20)\n",
    "print(tags)"
   ]
  },
  {
   "cell_type": "code",
   "execution_count": 10,
   "metadata": {},
   "outputs": [
    {
     "output_type": "stream",
     "name": "stdout",
     "text": [
      "text1 label\ntext2 label\ntext3 label\n"
     ]
    }
   ],
   "source": [
    "a = [(\"text1\", \"label\"), (\"text2\", \"label\"), (\"text3\", \"label\")]\n",
    "for i, j in a:\n",
    "    print(i, j)"
   ]
  },
  {
   "cell_type": "code",
   "execution_count": null,
   "metadata": {},
   "outputs": [],
   "source": []
  }
 ],
 "metadata": {
  "kernelspec": {
   "display_name": "Python 3",
   "language": "python",
   "name": "python3"
  },
  "language_info": {
   "codemirror_mode": {
    "name": "ipython",
    "version": 2
   },
   "file_extension": ".py",
   "mimetype": "text/x-python",
   "name": "python",
   "nbconvert_exporter": "python",
   "pygments_lexer": "ipython2",
   "version": "3.7.7-final"
  }
 },
 "nbformat": 4,
 "nbformat_minor": 0
}